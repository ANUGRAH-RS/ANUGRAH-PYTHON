{
 "cells": [
  {
   "cell_type": "code",
   "execution_count": 1,
   "id": "f7ede9f2",
   "metadata": {},
   "outputs": [
    {
     "name": "stdout",
     "output_type": "stream",
     "text": [
      "Enter the radius of a circle =6\n",
      "Area of a circle: 113\n"
     ]
    }
   ],
   "source": [
    "#AREA OF A CIRCLE (IMPORT MATH() FOR GETTING PI VALUE)\n",
    "\n",
    "from math import pi\n",
    "r=int(input(\"Enter the radius of a circle =\"))\n",
    "area=round(pi*r*r)\n",
    "print(\"Area of a circle:\",area)"
   ]
  },
  {
   "cell_type": "code",
   "execution_count": 2,
   "id": "1d00ff75",
   "metadata": {},
   "outputs": [
    {
     "name": "stdout",
     "output_type": "stream",
     "text": [
      "Enter the degree celsius:3\n",
      "Fahrenheit is = 37.4\n"
     ]
    }
   ],
   "source": [
    "#CONVERT CELSIUS TO FAHRENHEIT\n",
    "\n",
    "a=int(input(\"Enter the degree celsius:\"))\n",
    "f=a*(9/5)+32.\n",
    "print(\"Fahrenheit is =\",f)"
   ]
  },
  {
   "cell_type": "code",
   "execution_count": 3,
   "id": "fd0b5d84",
   "metadata": {},
   "outputs": [
    {
     "name": "stdout",
     "output_type": "stream",
     "text": [
      "Enter the kilometer :3\n",
      "The corresponding mile is = 1.8641130000000001\n"
     ]
    }
   ],
   "source": [
    "#CONVERT KILOMETE#CHARATERS HAVE BEEN CHANGED TO $ EXCEPT THE FIRST CHARACTER ITSER TO MILES\n",
    "\n",
    "k=int(input(\"Enter the kilometer :\"))\n",
    "m=k*0.621371\n",
    "print(\"The corresponding mile is =\",m)"
   ]
  },
  {
   "cell_type": "code",
   "execution_count": 4,
   "id": "1e62976a",
   "metadata": {},
   "outputs": [
    {
     "name": "stdout",
     "output_type": "stream",
     "text": [
      "Enter the first number :6\n",
      "Enter the second number :199\n",
      "The greatest number is  199\n"
     ]
    }
   ],
   "source": [
    "#BIGGEST OF TWO NUMBERS\n",
    "\n",
    "a=int(input(\"Enter the first number :\"))\n",
    "b=int(input(\"Enter the second number :\"))\n",
    "if a<b:\n",
    "   print(\"The greatest number is \",b) \n",
    "else:\n",
    "    print(\"The greatest number is \",a)"
   ]
  },
  {
   "cell_type": "code",
   "execution_count": null,
   "id": "6cc5fe68",
   "metadata": {},
   "outputs": [],
   "source": []
  }
 ],
 "metadata": {
  "kernelspec": {
   "display_name": "Python 3 (ipykernel)",
   "language": "python",
   "name": "python3"
  },
  "language_info": {
   "codemirror_mode": {
    "name": "ipython",
    "version": 3
   },
   "file_extension": ".py",
   "mimetype": "text/x-python",
   "name": "python",
   "nbconvert_exporter": "python",
   "pygments_lexer": "ipython3",
   "version": "3.10.12"
  }
 },
 "nbformat": 4,
 "nbformat_minor": 5
}

