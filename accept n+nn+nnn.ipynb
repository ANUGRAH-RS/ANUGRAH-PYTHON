{
 "cells": [
  {
   "cell_type": "code",
   "execution_count": 1,
   "id": "b642d929",
   "metadata": {},
   "outputs": [
    {
     "name": "stdout",
     "output_type": "stream",
     "text": [
      "Enter the Number:3\n",
      " 3 + 33 + 333 = 369\n"
     ]
    }
   ],
   "source": [
    "n=int(input(\"Enter the Number:\"))\n",
    "s=11*n\n",
    "y=111*n\n",
    "print(\"\",n,\"+\",s,\"+\",y,\"=\",n+s+y)"
   ]
  },
  {
   "cell_type": "code",
   "execution_count": null,
   "id": "2274b559",
   "metadata": {},
   "outputs": [],
   "source": []
  }
 ],
 "metadata": {
  "kernelspec": {
   "display_name": "Python 3 (ipykernel)",
   "language": "python",
   "name": "python3"
  },
  "language_info": {
   "codemirror_mode": {
    "name": "ipython",
    "version": 3
   },
   "file_extension": ".py",
   "mimetype": "text/x-python",
   "name": "python",
   "nbconvert_exporter": "python",
   "pygments_lexer": "ipython3",
   "version": "3.10.12"
  }
 },
 "nbformat": 4,
 "nbformat_minor": 5
}
