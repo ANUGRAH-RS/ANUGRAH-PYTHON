{
 "cells": [
  {
   "cell_type": "code",
   "execution_count": 2,
   "id": "4f7be340",
   "metadata": {},
   "outputs": [
    {
     "name": "stdout",
     "output_type": "stream",
     "text": [
      "Enter The Numbers :10,20,30,40\n",
      "10,20,30,40\n",
      "The Resultant List Is= ['10', '20', '30', '40']\n"
     ]
    }
   ],
   "source": [
    "#ACCEPT SEQUENCE OF COMMA SEPARATED NUMBERS FROM USER AND GENERATE A LIST WITH THESE NUMBERS\n",
    "\n",
    "n=input(\"Enter The Numbers :\")\n",
    "print(n)\n",
    "p=n.split(\",\")\n",
    "print(\"The Resultant List Is=\",p)"
   ]
  },
  {
   "cell_type": "code",
   "execution_count": 6,
   "id": "9812d4f7",
   "metadata": {},
   "outputs": [
    {
     "name": "stdout",
     "output_type": "stream",
     "text": [
      "Enter The Colors:red,blue,green\n",
      "The first Color Is= red\n",
      "The second Color Is= green\n"
     ]
    }
   ],
   "source": [
    "#LIST OF COLORS SEPARATED BY COMMA AND DISPLAY FIRST AND LAST COLORS\n",
    "\n",
    "n=input(\"Enter The Colors:\")\n",
    "p=n.split(\",\")\n",
    "print(\"The first Color Is=\",p[0])\n",
    "print(\"The second Color Is=\",p[-1])\n"
   ]
  },
  {
   "cell_type": "code",
   "execution_count": 7,
   "id": "57615863",
   "metadata": {},
   "outputs": [
    {
     "name": "stdout",
     "output_type": "stream",
     "text": [
      "Enter The File :anugrah.py\n",
      "Extension is= py\n"
     ]
    }
   ],
   "source": [
    "# EXTENSION\n",
    "\n",
    "f=input(\"Enter The File :\")\n",
    "p=f.split(\".\")\n",
    "print(\"Extension is=\",p[-1])"
   ]
  },
  {
   "cell_type": "code",
   "execution_count": null,
   "id": "9db82e41",
   "metadata": {},
   "outputs": [],
   "source": []
  }
 ],
 "metadata": {
  "kernelspec": {
   "display_name": "Python 3 (ipykernel)",
   "language": "python",
   "name": "python3"
  },
  "language_info": {
   "codemirror_mode": {
    "name": "ipython",
    "version": 3
   },
   "file_extension": ".py",
   "mimetype": "text/x-python",
   "name": "python",
   "nbconvert_exporter": "python",
   "pygments_lexer": "ipython3",
   "version": "3.10.12"
  }
 },
 "nbformat": 4,
 "nbformat_minor": 5
}
