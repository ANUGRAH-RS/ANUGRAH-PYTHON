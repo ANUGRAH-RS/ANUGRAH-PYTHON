{
 "cells": [
  {
   "cell_type": "code",
   "execution_count": null,
   "id": "6c17d648",
   "metadata": {},
   "outputs": [],
   "source": [
    "#AREA OF A SQUARE\n",
    "\n",
    "a=int(input(\"Enter the side of the square: \"))\n",
    "area=a*a\n",
    "print(\"Area of square is=\",area)"
   ]
  },
  {
   "cell_type": "code",
   "execution_count": null,
   "id": "8875c7fd",
   "metadata": {},
   "outputs": [],
   "source": [
    "#AREA OF RIGHT ANGLED TRIANGLE\n",
    "\n",
    "b=int(input(\"Enter the breadth of triangle :\"))\n",
    "h=int(input(\"Enter the height of triangle :\"))\n",
    "area=1/2*b*h\n",
    "print(\"Area of right angle traiangle is =\",area)"
   ]
  },
  {
   "cell_type": "code",
   "execution_count": null,
   "id": "1d382add",
   "metadata": {},
   "outputs": [],
   "source": [
    "#PREVIOUS AND NEXT NUMBER\n",
    "\n",
    "x=int(input(\"Enter a number :\"))\n",
    "previous=x-1\n",
    "Next=x+1\n",
    "print(\"previous number is =\",previous)\n",
    "print(\"Next number is =\",Next)"
   ]
  },
  {
   "cell_type": "code",
   "execution_count": 13,
   "id": "b6fcde2d",
   "metadata": {},
   "outputs": [
    {
     "name": "stdout",
     "output_type": "stream",
     "text": [
      "Enter the principle amount :100\n",
      "Enter the number of years :5\n",
      "Enter the rate of interest :200\n",
      "The simple Interest is= 1000.0\n"
     ]
    }
   ],
   "source": [
    "#SIMPLE INTEREST\n",
    "\n",
    "p=int(input(\"Enter the principle amount :\"))\n",
    "n=int(input(\"Enter the number of years :\"))\n",
    "r=int(input(\"Enter the rate of interest :\"))\n",
    "i=(p*n*r)/100\n",
    "print(\"The simple Interest is=\",i)"
   ]
  },
  {
   "cell_type": "code",
   "execution_count": 14,
   "id": "1209ba60",
   "metadata": {},
   "outputs": [
    {
     "name": "stdout",
     "output_type": "stream",
     "text": [
      "Enter the Number:5\n",
      " 5 + 55 + 555 = 615\n"
     ]
    }
   ],
   "source": [
    "#COMPUTE N+NN+NNN\n",
    "\n",
    "n=int(input(\"Enter the Number:\"))\n",
    "s=11*n\n",
    "y=111*n\n",
    "print(\"\",n,\"+\",s,\"+\",y,\"=\",n+s+y)"
   ]
  },
  {
   "cell_type": "code",
   "execution_count": null,
   "id": "49ab333f",
   "metadata": {},
   "outputs": [],
   "source": []
  }
 ],
 "metadata": {
  "kernelspec": {
   "display_name": "Python 3 (ipykernel)",
   "language": "python",
   "name": "python3"
  },
  "language_info": {
   "codemirror_mode": {
    "name": "ipython",
    "version": 3
   },
   "file_extension": ".py",
   "mimetype": "text/x-python",
   "name": "python",
   "nbconvert_exporter": "python",
   "pygments_lexer": "ipython3",
   "version": "3.10.12"
  }
 },
 "nbformat": 4,
 "nbformat_minor": 5
}

