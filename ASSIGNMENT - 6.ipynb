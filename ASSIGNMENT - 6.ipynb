{
 "cells": [
  {
   "cell_type": "code",
   "execution_count": 5,
   "id": "ab3ebb28",
   "metadata": {},
   "outputs": [
    {
     "name": "stdout",
     "output_type": "stream",
     "text": [
      "Enter The Number:5\n",
      "5 factorial is=  120\n"
     ]
    }
   ],
   "source": [
    "#FACTORIAL OF ANY NUMBER\n",
    "\n",
    "import math\n",
    "n=int(input(\"Enter The Number:\"))\n",
    "fact=1\n",
    "i=1\n",
    "while(i<=n):\n",
    "    fact=fact*i\n",
    "    i=i+1\n",
    "print(n,\"factorial is= \",fact)"
   ]
  },
  {
   "cell_type": "code",
   "execution_count": 4,
   "id": "c9a1ea7b",
   "metadata": {},
   "outputs": [
    {
     "name": "stdout",
     "output_type": "stream",
     "text": [
      "Enter The Limit:6\n",
      "Fibonacci series=\n",
      "0\n",
      "1\n",
      "1\n",
      "2\n",
      "3\n",
      "5\n",
      "8\n"
     ]
    }
   ],
   "source": [
    "#FIBONACCI SERIES\n",
    "\n",
    "n=int(input(\"Enter The Limit:\"))\n",
    "n1=1\n",
    "n2=0\n",
    "print(\"Fibonacci series=\")\n",
    "print(n2)\n",
    "i=1\n",
    "while(i<=n):\n",
    "    r=n1+n2\n",
    "    print(r)\n",
    "    n1=n2\n",
    "    n2=r\n",
    "    i=i+1\n",
    "    \n"
   ]
  },
  {
   "cell_type": "code",
   "execution_count": null,
   "id": "576d1e33",
   "metadata": {},
   "outputs": [],
   "source": []
  }
 ],
 "metadata": {
  "kernelspec": {
   "display_name": "Python 3 (ipykernel)",
   "language": "python",
   "name": "python3"
  },
  "language_info": {
   "codemirror_mode": {
    "name": "ipython",
    "version": 3
   },
   "file_extension": ".py",
   "mimetype": "text/x-python",
   "name": "python",
   "nbconvert_exporter": "python",
   "pygments_lexer": "ipython3",
   "version": "3.10.12"
  }
 },
 "nbformat": 4,
 "nbformat_minor": 5
}
