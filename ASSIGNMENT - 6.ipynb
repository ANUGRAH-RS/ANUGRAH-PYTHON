{
 "cells": [
  {
   "cell_type": "code",
   "execution_count": 5,
   "id": "ab3ebb28",
   "metadata": {},
   "outputs": [
    {
     "name": "stdout",
     "output_type": "stream",
     "text": [
      "Enter The Number:5\n",
      "5 factorial is=  120\n"
     ]
    }
   ],
   "source": [
    "#FACTORIAL OF ANY NUMBER\n",
    "\n",
    "import math\n",
    "n=int(input(\"Enter The Number:\"))\n",
    "fact=1\n",
    "i=1\n",
    "while(i<=n):\n",
    "    fact=fact*i\n",
    "    i=i+1\n",
    "print(n,\"factorial is= \",fact)"
   ]
  },
  {
   "cell_type": "code",
   "execution_count": 4,
   "id": "c9a1ea7b",
   "metadata": {},
   "outputs": [
    {
     "name": "stdout",
     "output_type": "stream",
     "text": [
      "Enter The Limit:6\n",
      "Fibonacci series=\n",
      "0\n",
      "1\n",
      "1\n",
      "2\n",
      "3\n",
      "5\n",
      "8\n"
     ]
    }
   ],
   "source": [
    "#FIBONACCI SERIES\n",
    "\n",
    "n=int(input(\"Enter The Limit:\"))\n",
    "n1=1\n",
    "n2=0\n",
    "print(\"Fibonacci series=\")\n",
    "print(n2)\n",
    "i=1\n",
    "while(i<=n):\n",
    "    r=n1+n2\n",
    "    print(r)\n",
    "    n1=n2\n",
    "    n2=r\n",
    "    i=i+1\n",
    "    \n"
   ]
  },
  {
   "cell_type": "code",
   "execution_count": 1,
   "id": "576d1e33",
   "metadata": {},
   "outputs": [
    {
     "name": "stdout",
     "output_type": "stream",
     "text": [
      "Enter first number :10\n",
      "Enter second number :5\n",
      "GCD( 10.0 , 5.0 ) = 5.0\n"
     ]
    }
   ],
   "source": [
    "#GREATEST COMMON DEVISOR\n",
    "\n",
    "x=float(input(\"Enter first number :\"))\n",
    "y=float(input(\"Enter second number :\"))\n",
    "if(x>y):\n",
    "    c=x\n",
    "else:\n",
    "    c=y\n",
    "while(c>0):\n",
    "    if(x%c==0)and(y%c==0):\n",
    "        print(\"GCD(\",x,\",\",y,\") =\",c)\n",
    "        break;\n",
    "    c=c-1 \n",
    "    \n"
   ]
  },
  {
   "cell_type": "code",
   "execution_count": 3,
   "id": "a605b4a3",
   "metadata": {},
   "outputs": [
    {
     "name": "stdout",
     "output_type": "stream",
     "text": [
      "Enter list of numbers :1,2,3,4,5,6\n",
      "Sum of the elements in ['1', '2', '3', '4', '5', '6'] = 21\n"
     ]
    }
   ],
   "source": [
    "#SUM OF ITEMS IN A LIST\n",
    "\n",
    "l=list(input(\"Enter list of numbers :\").split(\",\"))\n",
    "m=len(l)\n",
    "a=0\n",
    "i=0\n",
    "for i in range(m):\n",
    "    b=int(l[i])\n",
    "    a=a+b\n",
    "print(\"Sum of the elements in\",l,\"=\",a)\n"
   ]
  },
  {
   "cell_type": "code",
   "execution_count": 2,
   "id": "987024bc",
   "metadata": {},
   "outputs": [
    {
     "name": "stdout",
     "output_type": "stream",
     "text": [
      "Enter numbers seperated by commas :1,2,3,4,5,6\n",
      "tuple= ('1', '2', '3', '4', '5', '6')\n",
      "Average value of the numbers in given tuple : 3.5\n"
     ]
    }
   ],
   "source": [
    "#AVERAGE VALUE OF TUPLE\n",
    "\n",
    "t=tuple(input(\"Enter numbers seperated by commas :\").split(\",\"))\n",
    "print(\"tuple=\",t)\n",
    "l=len(t)\n",
    "c=0\n",
    "for i in range(l):\n",
    "    c=int(t[i])+c\n",
    "    avg=c/l\n",
    "print(\"Average value of the numbers in given tuple :\",avg)\n"
   ]
  },
  {
   "cell_type": "code",
   "execution_count": 2,
   "id": "e28fd64d",
   "metadata": {},
   "outputs": [
    {
     "name": "stdout",
     "output_type": "stream",
     "text": [
      "Enter a string :ANUGRAH\n",
      "A is repeated 2 times\n",
      "N is repeated 1 times\n",
      "U is repeated 1 times\n",
      "G is repeated 1 times\n",
      "R is repeated 1 times\n",
      "H is repeated 1 times\n"
     ]
    }
   ],
   "source": [
    "#NUMBER OF CHARACTERS(FREQUENCY) ON A GIVEN STRING\n",
    "\n",
    "s=input(\"Enter a string :\")\n",
    "f={}\n",
    "for i in s:\n",
    "    if i in f:\n",
    "        f[i]=f[i]+1\n",
    "    else:\n",
    "        f[i]=1\n",
    "for keys,value in f.items():\n",
    "    print(keys,\"is repeated\",value,\"times\")\n",
    "    "
   ]
  },
  {
   "cell_type": "code",
   "execution_count": null,
   "id": "0cd1e94b",
   "metadata": {},
   "outputs": [],
   "source": []
  }
 ],
 "metadata": {
  "kernelspec": {
   "display_name": "Python 3 (ipykernel)",
   "language": "python",
   "name": "python3"
  },
  "language_info": {
   "codemirror_mode": {
    "name": "ipython",
    "version": 3
   },
   "file_extension": ".py",
   "mimetype": "text/x-python",
   "name": "python",
   "nbconvert_exporter": "python",
   "pygments_lexer": "ipython3",
   "version": "3.10.12"
  }
 },
 "nbformat": 4,
 "nbformat_minor": 5
}
