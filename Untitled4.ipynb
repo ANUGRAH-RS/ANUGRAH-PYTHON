{
 "cells": [
  {
   "cell_type": "code",
   "execution_count": 4,
   "id": "a3501fd9",
   "metadata": {},
   "outputs": [
    {
     "name": "stdout",
     "output_type": "stream",
     "text": [
      "[10, 20, 30, 40]\n",
      "10\n",
      "[70, 20, 30, 40]\n",
      "[70, 20, 30, 40, 80]\n"
     ]
    }
   ],
   "source": [
    "n=[10,20,30,40]\n",
    "print(n)\n",
    "print(n[0])\n",
    "n[0]=70\n",
    "print(n)\n",
    "n.append(80)\n",
    "print(n)"
   ]
  },
  {
   "cell_type": "code",
   "execution_count": 5,
   "id": "95d0dcd3",
   "metadata": {},
   "outputs": [
    {
     "name": "stdout",
     "output_type": "stream",
     "text": [
      "Enter numbers:10 20 30\n",
      "10 20 30\n",
      "['10 20 30']\n"
     ]
    }
   ],
   "source": [
    "n=input(\"Enter numbers:\")\n",
    "print(n)\n",
    "p=n.split(\",\")\n",
    "print(p)"
   ]
  },
  {
   "cell_type": "code",
   "execution_count": null,
   "id": "11e8354b",
   "metadata": {},
   "outputs": [],
   "source": []
  }
 ],
 "metadata": {
  "kernelspec": {
   "display_name": "Python 3 (ipykernel)",
   "language": "python",
   "name": "python3"
  },
  "language_info": {
   "codemirror_mode": {
    "name": "ipython",
    "version": 3
   },
   "file_extension": ".py",
   "mimetype": "text/x-python",
   "name": "python",
   "nbconvert_exporter": "python",
   "pygments_lexer": "ipython3",
   "version": "3.10.12"
  }
 },
 "nbformat": 4,
 "nbformat_minor": 5
}
