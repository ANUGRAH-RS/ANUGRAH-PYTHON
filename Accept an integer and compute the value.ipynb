{
 "cells": [
  {
   "cell_type": "code",
   "execution_count": 1,
   "id": "4c0b3158",
   "metadata": {},
   "outputs": [
    {
     "name": "stdout",
     "output_type": "stream",
     "text": [
      "Enter a integer :9\n",
      "The value = 1107\n"
     ]
    }
   ],
   "source": [
    "a=int(input(\"Enter a integer :\"))\n",
    "a=(a+(a*11)+(a*111))\n",
    "print(\"The value =\",a)"
   ]
  },
  {
   "cell_type": "code",
   "execution_count": null,
   "id": "28c0307c",
   "metadata": {},
   "outputs": [],
   "source": []
  }
 ],
 "metadata": {
  "kernelspec": {
   "display_name": "Python 3 (ipykernel)",
   "language": "python",
   "name": "python3"
  },
  "language_info": {
   "codemirror_mode": {
    "name": "ipython",
    "version": 3
   },
   "file_extension": ".py",
   "mimetype": "text/x-python",
   "name": "python",
   "nbconvert_exporter": "python",
   "pygments_lexer": "ipython3",
   "version": "3.10.12"
  }
 },
 "nbformat": 4,
 "nbformat_minor": 5
}


