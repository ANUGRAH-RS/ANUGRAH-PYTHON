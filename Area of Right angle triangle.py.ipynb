{
 "cells": [
  {
   "cell_type": "code",
   "execution_count": 1,
   "id": "df800583",
   "metadata": {},
   "outputs": [
    {
     "name": "stdout",
     "output_type": "stream",
     "text": [
      "Hello world\n"
     ]
    }
   ],
   "source": [
    "print(\"Hello world\")"
   ]
  },
  {
   "cell_type": "code",
   "execution_count": 18,
   "id": "894c0d65",
   "metadata": {},
   "outputs": [
    {
     "name": "stdout",
     "output_type": "stream",
     "text": [
      "ADDRESS:PILATHOTTATHIL(H),\n",
      "        ORAVIL(PO) ,\n",
      "        ULLIYERI(VIA),\n",
      "        PIN:673323,\n",
      "        KOZHIKKODE\n"
     ]
    }
   ],
   "source": [
    "print(\"ADDRESS:PILATHOTTATHIL(H),\\n        ORAVIL(PO) ,\\n        ULLIYERI(VIA),\\n        PIN:673323,\\n        KOZHIKKODE\")"
   ]
  },
  {
   "cell_type": "code",
   "execution_count": 28,
   "id": "881cebc4",
   "metadata": {},
   "outputs": [
    {
     "name": "stdout",
     "output_type": "stream",
     "text": [
      "7\n"
     ]
    }
   ],
   "source": [
    "a=5\n",
    "b=2\n",
    "sum=a+b\n",
    "print(sum)\n"
   ]
  },
  {
   "cell_type": "code",
   "execution_count": 36,
   "id": "c9c17001",
   "metadata": {},
   "outputs": [
    {
     "name": "stdout",
     "output_type": "stream",
     "text": [
      "Enter the first number :5\n",
      "Enter the second number :3\n",
      "sum= 8\n"
     ]
    }
   ],
   "source": [
    "a=int(input(\"Enter the first number :\"))\n",
    "b=int(input(\"Enter the second number :\"))\n",
    "sum=a+b\n",
    "print(\"sum=\",sum)"
   ]
  },
  {
   "cell_type": "code",
   "execution_count": 30,
   "id": "19e265e6",
   "metadata": {},
   "outputs": [
    {
     "name": "stdout",
     "output_type": "stream",
     "text": [
      "Enter the side of the square: 5\n",
      "Area of square is= 25\n"
     ]
    }
   ],
   "source": [
    "a=int(input(\"Enter the side of the square: \"))\n",
    "area=a*a\n",
    "print(\"Area of square is=\",area)"
   ]
  },
  {
   "cell_type": "code",
   "execution_count": 35,
   "id": "a3dfba8d",
   "metadata": {},
   "outputs": [
    {
     "name": "stdout",
     "output_type": "stream",
     "text": [
      "Enter the breadth of triangle :4\n",
      "Enter the height of triangle :6\n",
      "Area of right angle traiangle is = 12.0\n"
     ]
    }
   ],
   "source": [
    "b=int(input(\"Enter the breadth of triangle :\"))\n",
    "h=int(input(\"Enter the height of triangle :\"))\n",
    "area=1/2*b*h\n",
    "print(\"Area of right angle traiangle is =\",area)"
   ]
  },
  {
   "cell_type": "code",
   "execution_count": null,
   "id": "65c25c4d",
   "metadata": {},
   "outputs": [],
   "source": []
  },
  {
   "cell_type": "code",
   "execution_count": null,
   "id": "a6ae3514",
   "metadata": {},
   "outputs": [],
   "source": []
  }
 ],
 "metadata": {
  "kernelspec": {
   "display_name": "Python 3 (ipykernel)",
   "language": "python",
   "name": "python3"
  },
  "language_info": {
   "codemirror_mode": {
    "name": "ipython",
    "version": 3
   },
   "file_extension": ".py",
   "mimetype": "text/x-python",
   "name": "python",
   "nbconvert_exporter": "python",
   "pygments_lexer": "ipython3",
   "version": "3.10.12"
  }
 },
 "nbformat": 4,
 "nbformat_minor": 5
}
