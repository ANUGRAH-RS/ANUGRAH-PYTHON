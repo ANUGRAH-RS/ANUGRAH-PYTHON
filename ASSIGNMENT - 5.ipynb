{
 "cells": [
  {
   "cell_type": "code",
   "execution_count": 11,
   "id": "076e6352",
   "metadata": {},
   "outputs": [
    {
     "name": "stdout",
     "output_type": "stream",
     "text": [
      "Enter The number :6\n",
      "The Given Number Is POSITIVE \n"
     ]
    }
   ],
   "source": [
    "#GIVEN NUMBER IS POSITIVE , NEGATIVE OR ZERO\n",
    "\n",
    "n=int(input(\"Enter The number :\"))\n",
    "if(0<n):\n",
    "    print(\"The Given Number Is POSITIVE \")\n",
    "elif(0>n):\n",
    "    print(\"The Given Number Is NEGATIVE \")\n",
    "else:\n",
    "    print(\"The Given Number Is ZERO \")"
   ]
  },
  {
   "cell_type": "code",
   "execution_count": 20,
   "id": "4e3e3bf8",
   "metadata": {},
   "outputs": [
    {
     "name": "stdout",
     "output_type": "stream",
     "text": [
      "Eneter The First Number :8\n",
      "Eneter The Second Number :1\n",
      "Eneter The Third Number :0\n",
      "The Greatest Number Is 8\n"
     ]
    }
   ],
   "source": [
    "#GREATEST OF 3 NUMBERS\n",
    "\n",
    "a=int(input(\"Eneter The First Number :\"))\n",
    "b=int(input(\"Eneter The Second Number :\"))\n",
    "c=int(input(\"Eneter The Third Number :\"))\n",
    "if(a>b and a>c):\n",
    "    print(\"The Greatest Number Is\",a)\n",
    "elif(b>c and b>a):\n",
    "    print(\"The Greatest Number Is\",b)\n",
    "else:\n",
    "     print(\"The Greatest Number Is\",c)\n",
    "    \n",
    "    "
   ]
  },
  {
   "cell_type": "code",
   "execution_count": 25,
   "id": "7461144b",
   "metadata": {},
   "outputs": [
    {
     "name": "stdout",
     "output_type": "stream",
     "text": [
      "Enter The First Number :8\n",
      "Enter The Second Number :5\n",
      "1.ADDITION\n",
      "2.SUBSTRACTION\n",
      "3.MULTIPLICATION\n",
      "4.DIVISION\n",
      "Enter The choice :1\n",
      "The Result Is= 13\n"
     ]
    }
   ],
   "source": [
    "#SIMPLE CALCULATOR\n",
    "\n",
    "a=float(input(\"Enter The First Number :\"))\n",
    "b=float(input(\"Enter The Second Number :\"))\n",
    "print(\"1.ADDITION\")\n",
    "print(\"2.SUBSTRACTION\")\n",
    "print(\"3.MULTIPLICATION\")\n",
    "print(\"4.DIVISION\")\n",
    "choice=int(input(\"Enter The choice :\"))\n",
    "if(choice==1):\n",
    "    print(\"The Result Is=\",round(a+b))\n",
    "elif(choice==2):\n",
    "    print(\"The Result Is=\",round(a-b))\n",
    "elif(choice==3):\n",
    "    print(\"The Result Is=\",round(a*b))\n",
    "elif(choice==4):\n",
    "    print(\"The Result Is=\",round(a/b))\n",
    "else:\n",
    "    print(\"The choice Is Invalid \")"
   ]
  },
  {
   "cell_type": "code",
   "execution_count": null,
   "id": "65f8f268",
   "metadata": {},
   "outputs": [],
   "source": []
  }
 ],
 "metadata": {
  "kernelspec": {
   "display_name": "Python 3 (ipykernel)",
   "language": "python",
   "name": "python3"
  },
  "language_info": {
   "codemirror_mode": {
    "name": "ipython",
    "version": 3
   },
   "file_extension": ".py",
   "mimetype": "text/x-python",
   "name": "python",
   "nbconvert_exporter": "python",
   "pygments_lexer": "ipython3",
   "version": "3.10.12"
  }
 },
 "nbformat": 4,
 "nbformat_minor": 5
}
