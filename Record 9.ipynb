{
 "cells": [
  {
   "cell_type": "code",
   "execution_count": 4,
   "id": "5492e256",
   "metadata": {},
   "outputs": [
    {
     "name": "stdout",
     "output_type": "stream",
     "text": [
      "Enter length of Rectangle 1:10\n",
      "Enter breadth of Rectangle 1:4\n",
      "Enter length of Rectangle 2:4\n",
      "Enter breadth of Rectangle 2:10\n",
      "Rectangle is Equal\n"
     ]
    }
   ],
   "source": [
    "#compare area and perimeter of 2 rectangle \n",
    "class rectangle():\n",
    "    def get(self,l,b):\n",
    "        self.l=l\n",
    "        self.b=b\n",
    "    def area(self,l,b):\n",
    "        return l*b\n",
    "    def perimeter(self,l,b):\n",
    "        return 2*(l+b)\n",
    "\n",
    "\n",
    "r1=rectangle()\n",
    "r2=rectangle()\n",
    "l1=int(input(\"Enter length of Rectangle 1:\"))\n",
    "b1=int(input(\"Enter breadth of Rectangle 1:\"))\n",
    "l2=int(input(\"Enter length of Rectangle 2:\"))\n",
    "b2=int(input(\"Enter breadth of Rectangle 2:\"))\n",
    "p=r1.area(l1,b1)\n",
    "q=r2.area(l2,b2)\n",
    "if(p>q):\n",
    "    print(\"Rectangle 1 is Greater\")\n",
    "elif(p<q):\n",
    "    print(\"Rectangle 2 is Greater\")\n",
    "else:\n",
    "    print(\"Rectangle is Equal\")"
   ]
  },
  {
   "cell_type": "code",
   "execution_count": 3,
   "id": "a14c197d",
   "metadata": {},
   "outputs": [
    {
     "name": "stdout",
     "output_type": "stream",
     "text": [
      "Enter name:abcd\n",
      "Enter account number:1234\n",
      "Enter account type:savings\n",
      "Enter initial balance:5500\n",
      "\n",
      "1.Deposit 2.withdraw 3.Account info 4.Exit \n",
      " Choose your option:1\n",
      "\n",
      "Deposit amount:500\n",
      "initial balance: 5500\n",
      "500 is deposite\n",
      "current balance: 6000\n",
      "\n",
      "1.Deposit 2.withdraw 3.Account info 4.Exit \n",
      " Choose your option:2\n",
      "\n",
      "Withdraw amount:1000\n",
      "initial balance: 6000\n",
      "1000 is withdrawed\n",
      "Current balance: 5000\n",
      "\n",
      "1.Deposit 2.withdraw 3.Account info 4.Exit \n",
      " Choose your option:3\n",
      "\n",
      "Account holder Name: abcd\n",
      "Account Number: 1234\n",
      "Account Type: savings\n",
      "Account Balance: 5000\n",
      "\n",
      "1.Deposit 2.withdraw 3.Account info 4.Exit \n",
      " Choose your option:4\n",
      "\n",
      "Exiting...\n"
     ]
    }
   ],
   "source": [
    "#Bank account\n",
    "class bankaccount:\n",
    "    def __init__(self,a_name,a_no,a_type,a_balance):\n",
    "        self.acc_name=a_name\n",
    "        self.acc_no=a_no\n",
    "        self.acc_type=a_type\n",
    "        self.acc_balance=a_balance\n",
    "    def deposit(self,a_deposit):\n",
    "        print(\"initial balance:\",self.acc_balance)\n",
    "        self.acc_balance+=a_deposit\n",
    "        print(a_deposit,\"is deposite\")\n",
    "        print(\"current balance:\",self.acc_balance)\n",
    "    def withdraw(self):\n",
    "        self.amount=int(input(\"\\nWithdraw amount:\"))\n",
    "        print(\"initial balance:\",self.acc_balance)\n",
    "        if self.amount>self.acc_balance:\n",
    "            print(\"You don't have enough balance to withdraw!!\")\n",
    "            print(\"Current balance:\",self.acc_balance)\n",
    "        else:\n",
    "            print(self.amount,\"is withdrawed\")\n",
    "            self.acc_balance-=self.amount\n",
    "            print(\"Current balance:\",self.acc_balance)\n",
    "    def acc_info(self):\n",
    "        print(\"\\nAccount holder Name:\",self.acc_name)\n",
    "        print(\"Account Number:\",self.acc_no)\n",
    "        print(\"Account Type:\",self.acc_type)\n",
    "        print(\"Account Balance:\",self.acc_balance)\n",
    "\n",
    "\n",
    "name=input(\"Enter name:\")\n",
    "no=int(input(\"Enter account number:\"))\n",
    "typ=input(\"Enter account type:\")\n",
    "bal=int(input(\"Enter initial balance:\"))\n",
    "holder=bankaccount(name,no,typ,bal)            \n",
    "while(True):\n",
    "    ch=int(input(\"\\n1.Deposit 2.withdraw 3.Account info 4.Exit \\n Choose your option:\"))\n",
    "    if ch==1:\n",
    "        amount=int(input(\"\\nDeposit amount:\"))\n",
    "        holder.deposit(amount)\n",
    "    elif ch==2:\n",
    "        holder.withdraw()\n",
    "    elif ch==3:\n",
    "        holder.acc_info()\n",
    "    else:\n",
    "        print(\"\\nExiting...\")\n",
    "        break\n",
    "        "
   ]
  },
  {
   "cell_type": "code",
   "execution_count": 3,
   "id": "5aa1dd5c",
   "metadata": {},
   "outputs": [
    {
     "name": "stdout",
     "output_type": "stream",
     "text": [
      "Enter publisher name: dc books\n",
      "Enter book name: python\n",
      "Enter author name: sinan\n",
      "Enter rate of book: 1000\n",
      "Enter no. of pages: 200\n",
      "\n",
      "Book details \n",
      "\n",
      "Publisher name= dc books\n",
      "Title= python\n",
      "Author sinan\n",
      "Rate= 1000\n",
      "No. of pages= 200\n"
     ]
    }
   ],
   "source": [
    "#CLASS PUBLISHER\n",
    "\n",
    "class publisher:\n",
    "    def __init__(self,pname):\n",
    "        self.pubname=pname\n",
    "    def display1(self):\n",
    "        print(\"\\nBook details \\n\\nPublisher name=\",self.pubname)\n",
    "class book(publisher):\n",
    "    def __init__(self,pname,bname,author):\n",
    "        self.title=bname\n",
    "        self.auth=author\n",
    "        publisher.__init__(self,pname)\n",
    "    def display2(self):\n",
    "        print(\"Title=\",self.title)\n",
    "        print(\"Author\",self.auth)\n",
    "class python(book):\n",
    "    def __init__(self,pname,title,au,price,np):\n",
    "        self.rate=price\n",
    "        self.nop=np\n",
    "        book.__init__(self,pname,title,au)\n",
    "    def display3(self):\n",
    "        print(\"Rate=\",self.rate)\n",
    "        print(\"No. of pages=\", self.nop)\n",
    "p=input(\"Enter publisher name: \")\n",
    "b=input(\"Enter book name: \")\n",
    "a=input(\"Enter author name: \")\n",
    "r=int(input(\"Enter rate of book: \"))\n",
    "n=int(input(\"Enter no. of pages: \"))\n",
    "a=python(p,b,a,r,n)\n",
    "a.display1()\n",
    "a.display2()\n",
    "a.display3()"
   ]
  },
  {
   "cell_type": "code",
   "execution_count": 7,
   "id": "55aa1fb3",
   "metadata": {},
   "outputs": [
    {
     "name": "stdout",
     "output_type": "stream",
     "text": [
      "Enter length of rectangle 1: 5\n",
      "Enter width of rectangle 1: 2\n",
      "Enter length of rectangle1 2: 7\n",
      "Enter width of rectangle 2: 1\n",
      "rectangle 1 is greater\n"
     ]
    }
   ],
   "source": [
    "#OVERLOAD\n",
    "\n",
    "class rectangle:\n",
    "    def __init__(self,l,w):\n",
    "        self.length=l\n",
    "        self.width=w\n",
    "        self.a=l*w\n",
    "    def __gt__(self,other):\n",
    "        if self.a < other.a:\n",
    "            print(\"rectangle 1 is greater\")\n",
    "        else:\n",
    "            print(\"rectangle 2 is greater\")\n",
    "\n",
    "l1=int(input(\"Enter length of rectangle 1: \"))\n",
    "w1=int(input(\"Enter width of rectangle 1: \"))\n",
    "l2=int(input(\"Enter length of rectangle1 2: \"))\n",
    "w2=int(input(\"Enter width of rectangle 2: \"))\n",
    "\n",
    "r1=rectangle(l1,w1)\n",
    "r2=rectangle(l2,w2)\n",
    "r1<r2"
   ]
  },
  {
   "cell_type": "code",
   "execution_count": null,
   "id": "23e57294",
   "metadata": {},
   "outputs": [],
   "source": []
  },
  {
   "cell_type": "code",
   "execution_count": null,
   "id": "784ac69a",
   "metadata": {},
   "outputs": [],
   "source": []
  }
 ],
 "metadata": {
  "kernelspec": {
   "display_name": "Python 3 (ipykernel)",
   "language": "python",
   "name": "python3"
  },
  "language_info": {
   "codemirror_mode": {
    "name": "ipython",
    "version": 3
   },
   "file_extension": ".py",
   "mimetype": "text/x-python",
   "name": "python",
   "nbconvert_exporter": "python",
   "pygments_lexer": "ipython3",
   "version": "3.10.12"
  }
 },
 "nbformat": 4,
 "nbformat_minor": 5
}
