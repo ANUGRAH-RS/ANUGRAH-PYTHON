{
 "cells": [
  {
   "cell_type": "code",
   "execution_count": 1,
   "id": "cb9206e4",
   "metadata": {},
   "outputs": [
    {
     "name": "stdout",
     "output_type": "stream",
     "text": [
      "Enter the side of the square: 4\n",
      "Area of square is= 16\n"
     ]
    }
   ],
   "source": [
    "a=int(input(\"Enter the side of the square: \"))\n",
    "area=a*a\n",
    "print(\"Area of square is=\",area)"
   ]
  },
  {
   "cell_type": "code",
   "execution_count": null,
   "id": "740c6983",
   "metadata": {},
   "outputs": [],
   "source": []
  }
 ],
 "metadata": {
  "kernelspec": {
   "display_name": "Python 3 (ipykernel)",
   "language": "python",
   "name": "python3"
  },
  "language_info": {
   "codemirror_mode": {
    "name": "ipython",
    "version": 3
   },
   "file_extension": ".py",
   "mimetype": "text/x-python",
   "name": "python",
   "nbconvert_exporter": "python",
   "pygments_lexer": "ipython3",
   "version": "3.10.12"
  }
 },
 "nbformat": 4,
 "nbformat_minor": 5
}
