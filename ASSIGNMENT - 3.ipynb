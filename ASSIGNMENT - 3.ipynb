{
 "cells": [
  {
   "cell_type": "code",
   "execution_count": 1,
   "id": "a7ba9247",
   "metadata": {},
   "outputs": [
    {
     "name": "stdout",
     "output_type": "stream",
     "text": [
      "Enter The String :apple\n",
      "The Resultant String Is : eppla\n"
     ]
    }
   ],
   "source": [
    "#FIRST AND LAST CHARACTER CHANGING\n",
    "\n",
    "s=str(input(\"Enter The String :\"))\n",
    "a=s[0]\n",
    "b=s[-1]\n",
    "print(\"The Resultant String Is :\",b+s[1:4]+a)"
   ]
  },
  {
   "cell_type": "code",
   "execution_count": 4,
   "id": "b9c0f867",
   "metadata": {},
   "outputs": [
    {
     "name": "stdout",
     "output_type": "stream",
     "text": [
      "Enter the String :APPLE\n",
      "The Result ing String is = APLE\n"
     ]
    }
   ],
   "source": [
    "#STRING FIRST TWO AND LAST TWO CHARACTERS\n",
    "\n",
    "s=str(input(\"Enter the String :\"))\n",
    "a=s[0:2]\n",
    "b=s[-2:]\n",
    "x=(a+b)\n",
    "print(\"The Result ing String is =\",x)\n"
   ]
  },
  {
   "cell_type": "code",
   "execution_count": 17,
   "id": "0248fb79",
   "metadata": {},
   "outputs": [
    {
     "name": "stdout",
     "output_type": "stream",
     "text": [
      "Enter The Fist String=hello\n",
      "Enter The Second string=world\n",
      "wollo   herld\n"
     ]
    }
   ],
   "source": [
    "#TWO GIVEN STRING SEPARATED BY SPACE AND SWAP FIRST TWO CHARACTERS OF EACH STRINGS\n",
    "\n",
    "s1=str(input(\"Enter The Fist String=\"))\n",
    "s2=str(input(\"Enter The Second string=\"))\n",
    "a=s1[0:2]\n",
    "b=s2[0:2]\n",
    "print(b+s1[2:],\" \",a+s2[2:])"
   ]
  },
  {
   "cell_type": "code",
   "execution_count": 18,
   "id": "be03ad66",
   "metadata": {},
   "outputs": [
    {
     "name": "stdout",
     "output_type": "stream",
     "text": [
      "Enter The String :onion\n",
      "The resulting String is= oni$n\n"
     ]
    }
   ],
   "source": [
    "#CHARATERS HAVE BEEN CHANGED TO $ EXCEPT THE FIRST CHARACTER ITSELF\n",
    "\n",
    "s=str(input(\"Enter The String :\"))\n",
    "a=s[0]\n",
    "b=s[1:]\n",
    "st=b.replace(\"o\",\"$\")\n",
    "x=s[0]+st\n",
    "print(\"The resulting String is=\",x)"
   ]
  },
  {
   "cell_type": "code",
   "execution_count": null,
   "id": "8263d6a0",
   "metadata": {},
   "outputs": [],
   "source": []
  }
 ],
 "metadata": {
  "kernelspec": {
   "display_name": "Python 3 (ipykernel)",
   "language": "python",
   "name": "python3"
  },
  "language_info": {
   "codemirror_mode": {
    "name": "ipython",
    "version": 3
   },
   "file_extension": ".py",
   "mimetype": "text/x-python",
   "name": "python",
   "nbconvert_exporter": "python",
   "pygments_lexer": "ipython3",
   "version": "3.10.12"
  }
 },
 "nbformat": 4,
 "nbformat_minor": 5
}
