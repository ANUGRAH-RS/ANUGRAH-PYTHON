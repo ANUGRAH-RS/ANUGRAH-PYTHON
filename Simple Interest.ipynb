{
 "cells": [
  {
   "cell_type": "code",
   "execution_count": 1,
   "id": "00f2ab56",
   "metadata": {},
   "outputs": [
    {
     "name": "stdout",
     "output_type": "stream",
     "text": [
      "Enter the principle amount :100\n",
      "Enter the number of years :2\n",
      "Enter the rate of interest :5\n",
      "The simple Interest is= 10.0\n"
     ]
    }
   ],
   "source": [
    "p=int(input(\"Enter the principle amount :\"))\n",
    "n=int(input(\"Enter the number of years :\"))\n",
    "r=int(input(\"Enter the rate of interest :\"))\n",
    "i=(p*n*r)/100\n",
    "print(\"The simple Interest is=\",i)"
   ]
  },
  {
   "cell_type": "code",
   "execution_count": null,
   "id": "9fcdc00c",
   "metadata": {},
   "outputs": [],
   "source": []
  }
 ],
 "metadata": {
  "kernelspec": {
   "display_name": "Python 3 (ipykernel)",
   "language": "python",
   "name": "python3"
  },
  "language_info": {
   "codemirror_mode": {
    "name": "ipython",
    "version": 3
   },
   "file_extension": ".py",
   "mimetype": "text/x-python",
   "name": "python",
   "nbconvert_exporter": "python",
   "pygments_lexer": "ipython3",
   "version": "3.10.12"
  }
 },
 "nbformat": 4,
 "nbformat_minor": 5
}
