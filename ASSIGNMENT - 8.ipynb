{
 "cells": [
  {
   "cell_type": "code",
   "execution_count": 10,
   "id": "6758fe90",
   "metadata": {},
   "outputs": [
    {
     "name": "stdout",
     "output_type": "stream",
     "text": [
      "Enter The Elements:123456\n",
      "The entered tuple is= ('1', '2', '3', '4', '5', '6')\n",
      "The Reversed Tuple is= ('6', '5', '4', '3', '2', '1')\n"
     ]
    }
   ],
   "source": [
    "#REVERSE A TUPLE\n",
    "\n",
    "t=tuple(input(\"Enter The Elements:\"))\n",
    "print(\"The entered tuple is=\",t)\n",
    "reverse=tuple(reversed(t))\n",
    "print(\"The Reversed Tuple is=\",reverse)"
   ]
  },
  {
   "cell_type": "code",
   "execution_count": 7,
   "id": "d35a95e2",
   "metadata": {},
   "outputs": [
    {
     "name": "stdout",
     "output_type": "stream",
     "text": [
      "Enter numbers seperated by commas :1,2,3,4,5,6\n",
      "tuple= ('1', '2', '3', '4', '5', '6')\n",
      "Average value of the numbers in given tuple : 3.5\n"
     ]
    }
   ],
   "source": [
    "#AVERAGE VALUE OF THE NUMBER IN A GIVEN TUPLE\n",
    "\n",
    "t=tuple(input(\"Enter numbers seperated by commas :\").split(\",\"))\n",
    "print(\"tuple=\",t)\n",
    "l=len(t)\n",
    "c=0\n",
    "for i in range(l):\n",
    "    c=int(t[i])+c\n",
    "    avg=c/l\n",
    "print(\"Average value of the numbers in given tuple :\",avg)"
   ]
  },
  {
   "cell_type": "code",
   "execution_count": 15,
   "id": "431dbce2",
   "metadata": {},
   "outputs": [
    {
     "name": "stdout",
     "output_type": "stream",
     "text": [
      "Enter numbers seperated by commas :1,2,3,4,5,6\n",
      "Entered Tuple is = ('1', '2', '3', '4', '5', '6')\n",
      "remove:5\n",
      "The Result is = ('1', '2', '3', '4', '6')\n"
     ]
    }
   ],
   "source": [
    "#TO REMOVE AN ITEM FROM A TUPLE\n",
    "\n",
    "t=tuple(input(\"Enter numbers seperated by commas :\").split(\",\"))\n",
    "tn=list(t)\n",
    "print(\"Entered Tuple is =\",t)\n",
    "d=input(\"remove:\")\n",
    "for x in t:\n",
    "    if d in x:\n",
    "        tn.remove(x)\n",
    "        result=tuple(tn)\n",
    "print(\"The Result is =\",result)"
   ]
  },
  {
   "cell_type": "code",
   "execution_count": 16,
   "id": "540c3548",
   "metadata": {},
   "outputs": [
    {
     "name": "stdout",
     "output_type": "stream",
     "text": [
      "Enter numbers seperated by commas :1,2,3,4,5,6,7,8,9\n",
      "3rd element 3\n",
      "3rd element from last 7\n"
     ]
    }
   ],
   "source": [
    "#TO GET 3RD ELEMENT AND 3RD ELEMENT FROM LAST OF A TUPLE\n",
    "\n",
    "t=tuple(input(\"Enter numbers seperated by commas :\").split(\",\"))\n",
    "print(\"3rd element\",t[2])\n",
    "print(\"3rd element from last\",t[-3])"
   ]
  },
  {
   "cell_type": "code",
   "execution_count": null,
   "id": "0f7023eb",
   "metadata": {},
   "outputs": [],
   "source": []
  }
 ],
 "metadata": {
  "kernelspec": {
   "display_name": "Python 3 (ipykernel)",
   "language": "python",
   "name": "python3"
  },
  "language_info": {
   "codemirror_mode": {
    "name": "ipython",
    "version": 3
   },
   "file_extension": ".py",
   "mimetype": "text/x-python",
   "name": "python",
   "nbconvert_exporter": "python",
   "pygments_lexer": "ipython3",
   "version": "3.10.12"
  }
 },
 "nbformat": 4,
 "nbformat_minor": 5
}
